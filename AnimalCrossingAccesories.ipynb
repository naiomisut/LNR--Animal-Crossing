{
  "nbformat": 4,
  "nbformat_minor": 0,
  "metadata": {
    "colab": {
      "provenance": [],
      "authorship_tag": "ABX9TyPBf6u+6Sy1WmBxM8IaGfIK",
      "include_colab_link": true
    },
    "kernelspec": {
      "name": "ir",
      "display_name": "R"
    },
    "language_info": {
      "name": "R"
    }
  },
  "cells": [
    {
      "cell_type": "markdown",
      "metadata": {
        "id": "view-in-github",
        "colab_type": "text"
      },
      "source": [
        "<a href=\"https://colab.research.google.com/github/naiomisut/MLA--Animal-Crossing/blob/main/AnimalCrossingAccesories.ipynb\" target=\"_parent\"><img src=\"https://colab.research.google.com/assets/colab-badge.svg\" alt=\"Open In Colab\"/></a>"
      ]
    },
    {
      "cell_type": "code",
      "source": [
        "# Loading caTools & plotting tools\n",
        "install.packages('caTools')\n",
        "library(caTools)\n",
        "library(ggplot2)"
      ],
      "metadata": {
        "colab": {
          "base_uri": "https://localhost:8080/"
        },
        "id": "X44-s8vz-y5v",
        "outputId": "fb8e76a9-ea7e-439a-f324-03f5c88ab368"
      },
      "execution_count": 17,
      "outputs": [
        {
          "output_type": "stream",
          "name": "stderr",
          "text": [
            "Installing package into ‘/usr/local/lib/R/site-library’\n",
            "(as ‘lib’ is unspecified)\n",
            "\n"
          ]
        }
      ]
    },
    {
      "cell_type": "code",
      "source": [
        "# Importing the dataset from kaggle\n",
        "AccesoriesSet = read.csv('sample_data/accessories.csv')"
      ],
      "metadata": {
        "id": "beCeRuWJ-9lo"
      },
      "execution_count": 10,
      "outputs": []
    },
    {
      "cell_type": "code",
      "source": [
        "# Handling Categorical data\n",
        "AccesoriesSet$Source = factor(AccesoriesSet$Source,\n",
        "levels = c('Able Sisters', 'Birthday', 'Gulliver', 'Dodo Airlines', 'Labelle', 'Crafting', 'Nook Miles Shop', 'Recycle Bin'),\n",
        "labels = c('1', '2', '3', '4', '5', '6', '7', '8'))"
      ],
      "metadata": {
        "id": "R0LkM6zR-_dY"
      },
      "execution_count": 11,
      "outputs": []
    },
    {
      "cell_type": "code",
      "source": [
        "# splitting the animal data set into training and test set\n",
        "set.seed(12345678)\n",
        "split = sample.split(AccesoriesSet$Sell, SplitRatio = 0.8)\n",
        "training = subset(AccesoriesSet, split == TRUE)\n",
        "testing = subset(AccesoriesSet, split == FALSE)"
      ],
      "metadata": {
        "id": "3FQzXi22_Dfn"
      },
      "execution_count": 18,
      "outputs": []
    },
    {
      "cell_type": "code",
      "source": [
        "#Fitting the linear regression to our training set\n",
        "Multiregressor = lm(formula = Sell ~ Buy,\n",
        "\t\t\tdata = training)\n",
        "\n",
        "#Predicting the test set results\n",
        "ypredicts = predict(Multiregressor, newdata = testing)"
      ],
      "metadata": {
        "id": "IOptqSH8_JM5"
      },
      "execution_count": 22,
      "outputs": []
    },
    {
      "cell_type": "code",
      "source": [
        "#Summary of the model we made\n",
        "summary(Multiregressor)\n",
        "\n",
        "# Display the predicted y values\n",
        "print(ypredicts)"
      ],
      "metadata": {
        "colab": {
          "base_uri": "https://localhost:8080/",
          "height": 731
        },
        "id": "PX3PKydZ-IUD",
        "outputId": "a7e17044-438d-48cb-9f44-74b5b1287aff"
      },
      "execution_count": 26,
      "outputs": [
        {
          "output_type": "display_data",
          "data": {
            "text/plain": [
              "\n",
              "Call:\n",
              "lm(formula = Sell ~ Buy, data = training)\n",
              "\n",
              "Residuals:\n",
              "   Min     1Q Median     3Q    Max \n",
              "  -749      0      0      0   1241 \n",
              "\n",
              "Coefficients:\n",
              "            Estimate Std. Error t value Pr(>|t|)    \n",
              "(Intercept)   260.00      33.79   7.695  1.4e-12 ***\n",
              "Buy1100        15.00      43.82   0.342 0.732554    \n",
              "Buy1120        20.00     135.15   0.148 0.882543    \n",
              "Buy1300        65.00      50.68   1.283 0.201524    \n",
              "Buy1320        70.00      82.76   0.846 0.398936    \n",
              "Buy140       -225.00      63.21  -3.560 0.000490 ***\n",
              "Buy1560       130.00      48.63   2.673 0.008294 ** \n",
              "Buy1760       180.00      82.76   2.175 0.031114 *  \n",
              "Buy2000       240.00      63.21   3.797 0.000208 ***\n",
              "Buy490       -138.00      59.90  -2.304 0.022523 *  \n",
              "Buy560       -120.00      41.38  -2.900 0.004262 ** \n",
              "Buy630       -103.00      73.64  -1.399 0.163840    \n",
              "Buy700        -85.00     135.15  -0.629 0.530296    \n",
              "Buy770        -68.00      63.21  -1.076 0.283659    \n",
              "Buy880        -40.00      42.43  -0.943 0.347235    \n",
              "Buy910        -33.00      67.57  -0.488 0.625976    \n",
              "Buy980        -15.00      63.21  -0.237 0.812728    \n",
              "BuyNFS        499.00      53.42   9.341  < 2e-16 ***\n",
              "---\n",
              "Signif. codes:  0 ‘***’ 0.001 ‘**’ 0.01 ‘*’ 0.05 ‘.’ 0.1 ‘ ’ 1\n",
              "\n",
              "Residual standard error: 130.9 on 159 degrees of freedom\n",
              "Multiple R-squared:  0.6074,\tAdjusted R-squared:  0.5654 \n",
              "F-statistic: 14.47 on 17 and 159 DF,  p-value: < 2.2e-16\n"
            ]
          },
          "metadata": {}
        },
        {
          "output_type": "stream",
          "name": "stdout",
          "text": [
            "  4   6  15  21  28  29  32  39  41  49  53  65  66  76  79  80  89  97 100 105 \n",
            "122 759 275  35 260 260 759 325 325 140 275  35 140 275 275 245 260 440 500 220 \n",
            "106 107 114 117 120 127 128 131 133 135 138 139 142 143 144 148 150 151 157 158 \n",
            "220 220 227 275 390 275 220 220 220 140 140 140 140 140 325 330 192 122 390 390 \n",
            "165 183 198 212 218 \n",
            "157 245 192 260 220 \n"
          ]
        }
      ]
    }
  ]
}